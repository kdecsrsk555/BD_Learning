{
 "cells": [
  {
   "cell_type": "code",
   "execution_count": 19,
   "id": "5806f2db",
   "metadata": {},
   "outputs": [
    {
     "data": {
      "text/html": [
       "<div>\n",
       "<style scoped>\n",
       "    .dataframe tbody tr th:only-of-type {\n",
       "        vertical-align: middle;\n",
       "    }\n",
       "\n",
       "    .dataframe tbody tr th {\n",
       "        vertical-align: top;\n",
       "    }\n",
       "\n",
       "    .dataframe thead th {\n",
       "        text-align: right;\n",
       "    }\n",
       "</style>\n",
       "<table border=\"1\" class=\"dataframe\">\n",
       "  <thead>\n",
       "    <tr style=\"text-align: right;\">\n",
       "      <th></th>\n",
       "      <th>survived</th>\n",
       "      <th>pclass</th>\n",
       "      <th>sex</th>\n",
       "      <th>age</th>\n",
       "      <th>sibsp</th>\n",
       "      <th>parch</th>\n",
       "      <th>fare</th>\n",
       "      <th>embarked</th>\n",
       "      <th>class</th>\n",
       "      <th>who</th>\n",
       "      <th>adult_male</th>\n",
       "      <th>deck</th>\n",
       "      <th>embark_town</th>\n",
       "      <th>alive</th>\n",
       "      <th>alone</th>\n",
       "    </tr>\n",
       "  </thead>\n",
       "  <tbody>\n",
       "    <tr>\n",
       "      <th>0</th>\n",
       "      <td>0</td>\n",
       "      <td>3</td>\n",
       "      <td>male</td>\n",
       "      <td>22.0</td>\n",
       "      <td>1</td>\n",
       "      <td>0</td>\n",
       "      <td>7.2500</td>\n",
       "      <td>S</td>\n",
       "      <td>Third</td>\n",
       "      <td>man</td>\n",
       "      <td>True</td>\n",
       "      <td>NaN</td>\n",
       "      <td>Southampton</td>\n",
       "      <td>no</td>\n",
       "      <td>False</td>\n",
       "    </tr>\n",
       "    <tr>\n",
       "      <th>1</th>\n",
       "      <td>1</td>\n",
       "      <td>1</td>\n",
       "      <td>female</td>\n",
       "      <td>38.0</td>\n",
       "      <td>1</td>\n",
       "      <td>0</td>\n",
       "      <td>71.2833</td>\n",
       "      <td>C</td>\n",
       "      <td>First</td>\n",
       "      <td>woman</td>\n",
       "      <td>False</td>\n",
       "      <td>C</td>\n",
       "      <td>Cherbourg</td>\n",
       "      <td>yes</td>\n",
       "      <td>False</td>\n",
       "    </tr>\n",
       "    <tr>\n",
       "      <th>2</th>\n",
       "      <td>1</td>\n",
       "      <td>3</td>\n",
       "      <td>female</td>\n",
       "      <td>26.0</td>\n",
       "      <td>0</td>\n",
       "      <td>0</td>\n",
       "      <td>7.9250</td>\n",
       "      <td>S</td>\n",
       "      <td>Third</td>\n",
       "      <td>woman</td>\n",
       "      <td>False</td>\n",
       "      <td>NaN</td>\n",
       "      <td>Southampton</td>\n",
       "      <td>yes</td>\n",
       "      <td>True</td>\n",
       "    </tr>\n",
       "    <tr>\n",
       "      <th>3</th>\n",
       "      <td>1</td>\n",
       "      <td>1</td>\n",
       "      <td>female</td>\n",
       "      <td>35.0</td>\n",
       "      <td>1</td>\n",
       "      <td>0</td>\n",
       "      <td>53.1000</td>\n",
       "      <td>S</td>\n",
       "      <td>First</td>\n",
       "      <td>woman</td>\n",
       "      <td>False</td>\n",
       "      <td>C</td>\n",
       "      <td>Southampton</td>\n",
       "      <td>yes</td>\n",
       "      <td>False</td>\n",
       "    </tr>\n",
       "    <tr>\n",
       "      <th>4</th>\n",
       "      <td>0</td>\n",
       "      <td>3</td>\n",
       "      <td>male</td>\n",
       "      <td>35.0</td>\n",
       "      <td>0</td>\n",
       "      <td>0</td>\n",
       "      <td>8.0500</td>\n",
       "      <td>S</td>\n",
       "      <td>Third</td>\n",
       "      <td>man</td>\n",
       "      <td>True</td>\n",
       "      <td>NaN</td>\n",
       "      <td>Southampton</td>\n",
       "      <td>no</td>\n",
       "      <td>True</td>\n",
       "    </tr>\n",
       "  </tbody>\n",
       "</table>\n",
       "</div>"
      ],
      "text/plain": [
       "   survived  pclass     sex   age  sibsp  parch     fare embarked  class  \\\n",
       "0         0       3    male  22.0      1      0   7.2500        S  Third   \n",
       "1         1       1  female  38.0      1      0  71.2833        C  First   \n",
       "2         1       3  female  26.0      0      0   7.9250        S  Third   \n",
       "3         1       1  female  35.0      1      0  53.1000        S  First   \n",
       "4         0       3    male  35.0      0      0   8.0500        S  Third   \n",
       "\n",
       "     who  adult_male deck  embark_town alive  alone  \n",
       "0    man        True  NaN  Southampton    no  False  \n",
       "1  woman       False    C    Cherbourg   yes  False  \n",
       "2  woman       False  NaN  Southampton   yes   True  \n",
       "3  woman       False    C  Southampton   yes  False  \n",
       "4    man        True  NaN  Southampton    no   True  "
      ]
     },
     "execution_count": 19,
     "metadata": {},
     "output_type": "execute_result"
    }
   ],
   "source": [
    "import seaborn as sns\n",
    "import pandas as pd\n",
    "import numpy as np\n",
    "import matplotlib.pyplot as plt\n",
    "\n",
    "from sklearn.impute import SimpleImputer\n",
    "from sklearn.preprocessing import LabelEncoder, StandardScaler, OneHotEncoder\n",
    "\n",
    "\n",
    "df = sns.load_dataset(\"titanic\")\n",
    "\n",
    "df.head()"
   ]
  },
  {
   "cell_type": "code",
   "execution_count": 10,
   "id": "5e85beda",
   "metadata": {},
   "outputs": [
    {
     "data": {
      "text/plain": [
       "[NaN, 'C', 'E', 'G', 'D', 'A', 'B', 'F']\n",
       "Categories (7, object): ['A', 'B', 'C', 'D', 'E', 'F', 'G']"
      ]
     },
     "execution_count": 10,
     "metadata": {},
     "output_type": "execute_result"
    }
   ],
   "source": [
    "df['deck'].unique()"
   ]
  },
  {
   "cell_type": "code",
   "execution_count": null,
   "id": "31f24678",
   "metadata": {},
   "outputs": [
    {
     "name": "stdout",
     "output_type": "stream",
     "text": [
      "survived         0\n",
      "pclass           0\n",
      "sex              0\n",
      "age            177\n",
      "sibsp            0\n",
      "parch            0\n",
      "fare             0\n",
      "embarked         2\n",
      "class            0\n",
      "who              0\n",
      "adult_male       0\n",
      "deck           688\n",
      "embark_town      2\n",
      "alive            0\n",
      "alone            0\n",
      "dtype: int64\n"
     ]
    },
    {
     "data": {
      "text/html": [
       "<div>\n",
       "<style scoped>\n",
       "    .dataframe tbody tr th:only-of-type {\n",
       "        vertical-align: middle;\n",
       "    }\n",
       "\n",
       "    .dataframe tbody tr th {\n",
       "        vertical-align: top;\n",
       "    }\n",
       "\n",
       "    .dataframe thead th {\n",
       "        text-align: right;\n",
       "    }\n",
       "</style>\n",
       "<table border=\"1\" class=\"dataframe\">\n",
       "  <thead>\n",
       "    <tr style=\"text-align: right;\">\n",
       "      <th></th>\n",
       "      <th>pclass</th>\n",
       "      <th>sex</th>\n",
       "      <th>age</th>\n",
       "      <th>fare</th>\n",
       "      <th>embarked</th>\n",
       "      <th>class</th>\n",
       "      <th>who</th>\n",
       "      <th>deck</th>\n",
       "      <th>embark_town</th>\n",
       "      <th>alone</th>\n",
       "      <th>age_group</th>\n",
       "      <th>no_companion</th>\n",
       "      <th>average_per_family</th>\n",
       "    </tr>\n",
       "  </thead>\n",
       "  <tbody>\n",
       "    <tr>\n",
       "      <th>0</th>\n",
       "      <td>2</td>\n",
       "      <td>1</td>\n",
       "      <td>-0.592481</td>\n",
       "      <td>-0.502445</td>\n",
       "      <td>2</td>\n",
       "      <td>2</td>\n",
       "      <td>1</td>\n",
       "      <td>2</td>\n",
       "      <td>2</td>\n",
       "      <td>0</td>\n",
       "      <td>0</td>\n",
       "      <td>0.059160</td>\n",
       "      <td>-0.454798</td>\n",
       "    </tr>\n",
       "    <tr>\n",
       "      <th>1</th>\n",
       "      <td>0</td>\n",
       "      <td>0</td>\n",
       "      <td>0.638789</td>\n",
       "      <td>0.786845</td>\n",
       "      <td>0</td>\n",
       "      <td>0</td>\n",
       "      <td>2</td>\n",
       "      <td>2</td>\n",
       "      <td>0</td>\n",
       "      <td>0</td>\n",
       "      <td>0</td>\n",
       "      <td>0.059160</td>\n",
       "      <td>0.438994</td>\n",
       "    </tr>\n",
       "    <tr>\n",
       "      <th>2</th>\n",
       "      <td>2</td>\n",
       "      <td>0</td>\n",
       "      <td>-0.284663</td>\n",
       "      <td>-0.488854</td>\n",
       "      <td>2</td>\n",
       "      <td>2</td>\n",
       "      <td>2</td>\n",
       "      <td>2</td>\n",
       "      <td>2</td>\n",
       "      <td>1</td>\n",
       "      <td>0</td>\n",
       "      <td>-0.560975</td>\n",
       "      <td>-0.334757</td>\n",
       "    </tr>\n",
       "    <tr>\n",
       "      <th>3</th>\n",
       "      <td>0</td>\n",
       "      <td>0</td>\n",
       "      <td>0.407926</td>\n",
       "      <td>0.420730</td>\n",
       "      <td>2</td>\n",
       "      <td>0</td>\n",
       "      <td>2</td>\n",
       "      <td>2</td>\n",
       "      <td>2</td>\n",
       "      <td>0</td>\n",
       "      <td>0</td>\n",
       "      <td>0.059160</td>\n",
       "      <td>0.185187</td>\n",
       "    </tr>\n",
       "    <tr>\n",
       "      <th>4</th>\n",
       "      <td>2</td>\n",
       "      <td>1</td>\n",
       "      <td>0.407926</td>\n",
       "      <td>-0.486337</td>\n",
       "      <td>2</td>\n",
       "      <td>2</td>\n",
       "      <td>1</td>\n",
       "      <td>2</td>\n",
       "      <td>2</td>\n",
       "      <td>1</td>\n",
       "      <td>0</td>\n",
       "      <td>-0.560975</td>\n",
       "      <td>-0.331267</td>\n",
       "    </tr>\n",
       "  </tbody>\n",
       "</table>\n",
       "</div>"
      ],
      "text/plain": [
       "   pclass  sex       age      fare  embarked  class  who  deck  embark_town  \\\n",
       "0       2    1 -0.592481 -0.502445         2      2    1     2            2   \n",
       "1       0    0  0.638789  0.786845         0      0    2     2            0   \n",
       "2       2    0 -0.284663 -0.488854         2      2    2     2            2   \n",
       "3       0    0  0.407926  0.420730         2      0    2     2            2   \n",
       "4       2    1  0.407926 -0.486337         2      2    1     2            2   \n",
       "\n",
       "   alone  age_group  no_companion  average_per_family  \n",
       "0      0          0      0.059160           -0.454798  \n",
       "1      0          0      0.059160            0.438994  \n",
       "2      1          0     -0.560975           -0.334757  \n",
       "3      0          0      0.059160            0.185187  \n",
       "4      1          0     -0.560975           -0.331267  "
      ]
     },
     "execution_count": 20,
     "metadata": {},
     "output_type": "execute_result"
    }
   ],
   "source": [
    "# 결측치 확인\n",
    "print(df.isnull().sum())\n",
    "\n",
    "# 결측치 처리 (평균 or 최빈값 or 중위값)\n",
    "\n",
    "ss = StandardScaler()\n",
    "le = LabelEncoder()\n",
    "oe = OneHotEncoder()\n",
    "\n",
    "# 파생변수 생성\n",
    "df['age_group'] = pd.cut(df['age'], bins=[0, 16, 20, 50, 100], labels=['Teen', 'Young', 'Adults', 'Senior'])\n",
    "df['no_companion'] = df['sibsp'] + df['parch']\n",
    "df['average_per_family'] = df['fare'] / (df['no_companion'] + 1)\n",
    "\n",
    "\n",
    "# 연속형 범주형 분리\n",
    "num_col = ['age', 'fare', 'no_companion', 'average_per_family']\n",
    "cat_col = ['sex', 'pclass' , 'embarked', 'class', 'who', 'deck', 'embark_town' , 'alone', 'age_group']\n",
    "\n",
    "# 불필요한 콜럼 제거\n",
    "X = df.drop(['survived', 'alive', 'adult_male', 'sibsp','parch'], axis=1)\n",
    "y = df['survived']\n",
    "\n",
    "# 결측치 처리\n",
    "si = SimpleImputer(strategy=\"mean\")\n",
    "X['age'] = si.fit_transform(X[['age']])\n",
    "\n",
    "si = SimpleImputer(strategy=\"most_frequent\")\n",
    "X['deck'] = si.fit_transform(X[['deck']]).squeeze()\n",
    "X['embark_town'] = si.fit_transform(X[['embark_town']]).squeeze()\n",
    "\n",
    "\n",
    "\n",
    "# 수치형 컬럼 처리\n",
    "X[num_col] = ss.fit_transform(X[num_col])\n",
    "\n",
    "    #연속형 컬럼 처리\n",
    "for col in cat_col:\n",
    "        X[col] = le.fit_transform(X[col])\n",
    "\n",
    "\n",
    "X.head()\n",
    "\n"
   ]
  },
  {
   "cell_type": "code",
   "execution_count": 49,
   "id": "2e46e286",
   "metadata": {},
   "outputs": [
    {
     "name": "stdout",
     "output_type": "stream",
     "text": [
      "훈련의 정확도 98.46\n",
      "테스트의 정확도 81.56\n"
     ]
    }
   ],
   "source": [
    "from sklearn.model_selection import train_test_split\n",
    "from sklearn.ensemble import RandomForestClassifier\n",
    "\n",
    "# 테스트와 훈련용으로 구분\n",
    "X_train, X_test, y_train, y_test = train_test_split(X, y, test_size=0.2, random_state=42, stratify=y)\n",
    "\n",
    "# 모델 적용\n",
    "random_forest = RandomForestClassifier(n_estimators=100, random_state=42)\n",
    "random_forest.fit(X_train, y_train)\n",
    "Y_pred = random_forest.predict(X_test)\n",
    "random_forest.score(X_train, y_train)\n",
    "\n",
    "# 반올림 처리\n",
    "train_acc = round(random_forest.score(X_train, y_train)*100, 2)\n",
    "test_acc = round(random_forest.score(X_test, y_test)*100, 2)\n",
    "print(f\"훈련의 정확도 {train_acc}\")\n",
    "print(f\"테스트의 정확도 {test_acc}\")\n",
    "\n",
    "# 테스트의 정확도가 훨씬 많이 떨어지는 것이 보임"
   ]
  },
  {
   "cell_type": "code",
   "execution_count": 32,
   "id": "933a9b1d",
   "metadata": {},
   "outputs": [
    {
     "name": "stdout",
     "output_type": "stream",
     "text": [
      "Top 3 Important Variables:  ['age', 'sex', 'average_per_family']\n"
     ]
    },
    {
     "data": {
      "text/plain": [
       "<function matplotlib.pyplot.show(close=None, block=None)>"
      ]
     },
     "execution_count": 32,
     "metadata": {},
     "output_type": "execute_result"
    },
    {
     "data": {
      "image/png": "[encoded data removed]",
      "text/plain": [
       "<Figure size 1000x600 with 1 Axes>"
      ]
     },
     "metadata": {},
     "output_type": "display_data"
    }
   ],
   "source": [
    "from sklearn.metrics import accuracy_score, f1_score\n",
    "from sklearn.model_selection import GridSearchCV\n",
    "import matplotlib.pyplot as plt\n",
    "import numpy as np\n",
    "importances = random_forest.feature_importances_\n",
    "\n",
    "#중요도를 내림차순으로 배열\n",
    "var_importance = np.argsort(importances)[::-1]\n",
    "\n",
    "# 중요도가 제일 높은 변수 상위 3개\n",
    "top_3 = [X_train.columns[i] for i in var_importance[:3]]\n",
    "print(\"Top 3 Important Variables: \", top_3)\n",
    "\n",
    "#시각화\n",
    "plt.figure(figsize=(10,6))\n",
    "plt.title(\"Variable Importance\")\n",
    "plt.bar(range(X_train.shape[1]), importances[var_importance], align='center')\n",
    "plt.xticks(range(X_train.shape[1]), X_train.columns[var_importance], rotation=90)\n",
    "plt.tight_layout\n",
    "plt.show"
   ]
  },
  {
   "cell_type": "code",
   "execution_count": 47,
   "id": "d008f8a2",
   "metadata": {},
   "outputs": [
    {
     "name": "stdout",
     "output_type": "stream",
     "text": [
      "Best Parameters:  {'max_depth': 10, 'min_samples_leaf': 2, 'n_estimators': 200}\n"
     ]
    }
   ],
   "source": [
    "# 하이퍼 파라미터 튜닝\n",
    "# grid search는 정해진 값들을 사용해서 가장 최적의 조합을 찾아내는 방식\n",
    "param_grid = {\n",
    "    'n_estimators' : [50, 100, 200, 1000], # 예측 안정화를 위해 값을 늘려봄\n",
    "    'max_depth' : [None, 5, 10, 15], # 트리의 복잡도를 조정해 최적의 예측을 할 수 있도록 함\n",
    "    'min_samples_leaf' : [1, 2, 5, 10]\n",
    "}\n",
    "\n",
    "grid_search = GridSearchCV(RandomForestClassifier(random_state=42), param_grid, scoring='f1', cv=3,  n_jobs=-1)\n",
    "grid_search.fit(X_train, y_train)\n",
    "print(\"Best Parameters: \", grid_search.best_params_)"
   ]
  },
  {
   "cell_type": "code",
   "execution_count": null,
   "id": "6aebf37e",
   "metadata": {},
   "outputs": [
    {
     "name": "stdout",
     "output_type": "stream",
     "text": [
      "Before Tuning - Accuracy : 0.8156424581005587, F1 Score: 0.8013585768571141\n",
      "After Tuning - Accuracy : 0.8100558659217877, F1 Score: 0.7918035030103996\n"
     ]
    }
   ],
   "source": [
    "# 가장 좋은 값을 가진 튜닝으로 모델 예측\n",
    "best_model = grid_search.best_estimator_\n",
    "y_pred = random_forest.predict(X_test)\n",
    "tuned_y_pred = best_model.predict(X_test)\n",
    "\n",
    "\n",
    "# 값이 차이가 미미하지만 오히려 조금 줄어든 모습을 보임. 하지만 0.001 이내의 차이라 무의미한 차이라고 봐도 무방함\n",
    "print(f\"Before Tuning - Accuracy : {accuracy_score(y_test, y_pred)}, F1 Score: {f1_score(y_test, y_pred, average='macro')}\")\n",
    "print(f\"After Tuning - Accuracy : {accuracy_score(y_test, tuned_y_pred)}, F1 Score: {f1_score(y_test, tuned_y_pred, average='macro')}\")"
   ]
  },
  {
   "cell_type": "markdown",
   "id": "1ce940d3",
   "metadata": {},
   "source": [
    "오버피팅: 훈련과 테스트의 정확도 혹은 f1 스코어 차이 --> 학습 데이터에 과하게 적합됨\n",
    "방지할 수 있는 방법:\n",
    "1. 정규화 --> logistic regression의 l1, l2 규제 등\n",
    "2. 교차검증: 데이터를 여러번 나누어 평균 성능을 측정 --> 시도할 방법\n",
    "3. 특성 제한 --> 불필요한 노이즈 제거"
   ]
  },
  {
   "cell_type": "code",
   "execution_count": null,
   "id": "aee94eff",
   "metadata": {},
   "outputs": [
    {
     "name": "stdout",
     "output_type": "stream",
     "text": [
      "Cross-Validation Accuracy의 평균:  0.7655555555555555\n"
     ]
    }
   ],
   "source": [
    "from sklearn.model_selection import cross_val_score\n",
    "\n",
    "#교차 검증 적용\n",
    "cv_score = cross_val_score(best_model, X_test, y_test, cv=5, scoring='accuracy')\n",
    "print(\"Cross-Validation Accuracy의 평균: \" , np.mean(cv_score))\n",
    "\n",
    "# 교차 검증을 통해 정확성이 조금 더 높아진 것을 확인할 수 있음."
   ]
  },
  {
   "cell_type": "markdown",
   "id": "6863b0c1",
   "metadata": {},
   "source": [
    "실제 활용 가능성 분석:\n",
    "- 해당 모델은 높은 정확도와 f1 score를 보이기 때문에 실제 활용 가능 할 석으로 예상됩니다\n",
    "\n",
    "\n",
    "모델 성능을 높이기 위한 추가적인 데이터 수집\n",
    "- 개인에 대한 조금 더 퍼스널한 데이터가 있었으면 더 높은 성능을 보일 것으로 예상됩니다 --> 운동 등\n",
    "- "
   ]
  }
 ],
 "metadata": {
  "kernelspec": {
   "display_name": "Python 3",
   "language": "python",
   "name": "python3"
  },
  "language_info": {
   "codemirror_mode": {
    "name": "ipython",
    "version": 3
   },
   "file_extension": ".py",
   "mimetype": "text/x-python",
   "name": "python",
   "nbconvert_exporter": "python",
   "pygments_lexer": "ipython3",
   "version": "3.13.3"
  }
 },
 "nbformat": 4,
 "nbformat_minor": 5
}
